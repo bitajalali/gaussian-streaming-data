{
 "cells": [
  {
   "cell_type": "markdown",
   "metadata": {},
   "source": [
    "## 4.3 Soft version of Streaming Clustering (Expectation Maximization)\n",
    "In the previous part, we used Lloyd Hueristics which always off-line error which can not be removed as we get more data. <br>\n",
    "In this part, we use EM algorithm. In this algorithm, the error will converge to zero as we get more data. <br>"
   ]
  },
  {
   "cell_type": "markdown",
   "metadata": {},
   "source": [
    "#### 4.3.1 Sample Generator"
   ]
  },
  {
   "cell_type": "code",
   "execution_count": 1,
   "metadata": {},
   "outputs": [],
   "source": [
    "class SampleGenerator:\n",
    "    def __init__(self, weights, mu, sigma, d):\n",
    "        self.weights = weights\n",
    "        self.mu = mu\n",
    "        self.sigma=sigma\n",
    "        self.d = d\n",
    "    \n",
    "    def draw_a_sample(self):\n",
    "        rand = random.uniform(0,1)\n",
    "        for i in range(len(self.weights)):\n",
    "            rand -= self.weights[i]\n",
    "            if (rand <=0):\n",
    "                return np.random.multivariate_normal(self.mu[:,i], self.sigma * np.identity(self.d), 1).T\n",
    "    \n",
    "    def generate_samples(self, sample_size):\n",
    "        samples = []\n",
    "        for i in range(sample_size):\n",
    "            if len(samples) == 0:\n",
    "                samples = self.draw_a_sample()\n",
    "            else:\n",
    "                samples = np.append(samples, self.draw_a_sample(), axis=1)\n",
    "        return samples"
   ]
  },
  {
   "cell_type": "code",
   "execution_count": 2,
   "metadata": {},
   "outputs": [],
   "source": [
    "import numpy as np\n",
    "import matplotlib.pyplot as plt\n",
    "from scipy.stats import ortho_group\n",
    "from scipy import linalg\n",
    "import random\n",
    "from sklearn import neighbors\n",
    "import sklearn.metrics.pairwise\n",
    "from scipy.sparse import csgraph\n",
    "import random\n",
    "import pandas as pd\n",
    "from numpy import linalg as LA\n",
    "\n",
    "\n",
    "d = 10\n",
    "k = 2\n",
    "n = 2*int(d*d*d*k*k*k*np.log(d*k))\n",
    "eta = 3 * np.log(n) / n\n",
    "scaler = 10000\n",
    "sigma = 100\n",
    "num_of_samples = int(d*d*d*k*k*k*np.log(d*k))  #N0\n",
    "w = np.ones(k) / k\n",
    "while True:\n",
    "    mu = np.random.rand(1, d) * scaler\n",
    "    if  2*LA.norm(mu) / sigma > 4:\n",
    "        break\n",
    "mu1 = mu.reshape(-1, 1)\n",
    "mu = np.concatenate([mu1, -mu1], axis=1)\n",
    "\n",
    "generator = SampleGenerator(w, mu, sigma, d)"
   ]
  },
  {
   "cell_type": "code",
   "execution_count": 3,
   "metadata": {},
   "outputs": [
    {
     "name": "stdout",
     "output_type": "stream",
     "text": [
      "Components mean:\n"
     ]
    },
    {
     "data": {
      "text/html": [
       "<div>\n",
       "<style scoped>\n",
       "    .dataframe tbody tr th:only-of-type {\n",
       "        vertical-align: middle;\n",
       "    }\n",
       "\n",
       "    .dataframe tbody tr th {\n",
       "        vertical-align: top;\n",
       "    }\n",
       "\n",
       "    .dataframe thead th {\n",
       "        text-align: right;\n",
       "    }\n",
       "</style>\n",
       "<table border=\"1\" class=\"dataframe\">\n",
       "  <thead>\n",
       "    <tr style=\"text-align: right;\">\n",
       "      <th></th>\n",
       "      <th>0</th>\n",
       "      <th>1</th>\n",
       "    </tr>\n",
       "  </thead>\n",
       "  <tbody>\n",
       "    <tr>\n",
       "      <th>0</th>\n",
       "      <td>7780.678913</td>\n",
       "      <td>-7780.269836</td>\n",
       "    </tr>\n",
       "    <tr>\n",
       "      <th>1</th>\n",
       "      <td>7762.025513</td>\n",
       "      <td>-7761.669245</td>\n",
       "    </tr>\n",
       "    <tr>\n",
       "      <th>2</th>\n",
       "      <td>7279.064396</td>\n",
       "      <td>-7278.582610</td>\n",
       "    </tr>\n",
       "    <tr>\n",
       "      <th>3</th>\n",
       "      <td>4210.256801</td>\n",
       "      <td>-4210.442061</td>\n",
       "    </tr>\n",
       "    <tr>\n",
       "      <th>4</th>\n",
       "      <td>6885.945107</td>\n",
       "      <td>-6885.648653</td>\n",
       "    </tr>\n",
       "    <tr>\n",
       "      <th>5</th>\n",
       "      <td>658.658183</td>\n",
       "      <td>-658.948329</td>\n",
       "    </tr>\n",
       "    <tr>\n",
       "      <th>6</th>\n",
       "      <td>4322.180723</td>\n",
       "      <td>-4321.800021</td>\n",
       "    </tr>\n",
       "    <tr>\n",
       "      <th>7</th>\n",
       "      <td>8059.163792</td>\n",
       "      <td>-8059.070733</td>\n",
       "    </tr>\n",
       "    <tr>\n",
       "      <th>8</th>\n",
       "      <td>6567.329641</td>\n",
       "      <td>-6567.094877</td>\n",
       "    </tr>\n",
       "    <tr>\n",
       "      <th>9</th>\n",
       "      <td>3704.705387</td>\n",
       "      <td>-3704.599079</td>\n",
       "    </tr>\n",
       "  </tbody>\n",
       "</table>\n",
       "</div>"
      ],
      "text/plain": [
       "             0            1\n",
       "0  7780.678913 -7780.269836\n",
       "1  7762.025513 -7761.669245\n",
       "2  7279.064396 -7278.582610\n",
       "3  4210.256801 -4210.442061\n",
       "4  6885.945107 -6885.648653\n",
       "5   658.658183  -658.948329\n",
       "6  4322.180723 -4321.800021\n",
       "7  8059.163792 -8059.070733\n",
       "8  6567.329641 -6567.094877\n",
       "9  3704.705387 -3704.599079"
      ]
     },
     "execution_count": 3,
     "metadata": {},
     "output_type": "execute_result"
    }
   ],
   "source": [
    "N0 = num_of_samples\n",
    "\n",
    "S = np.zeros((d, d))\n",
    "k_2 = int (10*k*np.log(k))\n",
    "\n",
    "B = int(d * np.log(d))\n",
    "# In this part we use QR algorithm to find k Eigenvectors for each cluster\n",
    "U = ortho_group.rvs(dim=d)[:, :k]  # Choosing k orthonormal vectors in Rd space\n",
    "for t in range(N0 - k_2):\n",
    "    if t % B == B-1:\n",
    "        Q, R = linalg.qr(np.matmul(S, U))\n",
    "        # U = np.matmul(R, Q)\n",
    "        U = Q\n",
    "        S = np.zeros((d, d))\n",
    "    # reshaped_sample = samples[:, t].reshape(-1, 1)\n",
    "    reshaped_sample = generator.draw_a_sample().reshape(-1, 1)\n",
    "    S = S + np.matmul(reshaped_sample, reshaped_sample.T)\n",
    "    \n",
    "X0 = generator.generate_samples(int(k * np.log(k)) * 100)\n",
    "save_U = U\n",
    "U = U[:, 0:k]\n",
    "components = np.matmul(U.T, X0)\n",
    "adj = neighbors.kneighbors_graph(np.transpose(components), 3)\n",
    "n_components, labels = csgraph.connected_components(adj)\n",
    "\n",
    "components = np.matmul(U, components)\n",
    "\n",
    "components_mean = np.zeros((k, d))\n",
    "components_by_labels = []\n",
    "for c in range(k):\n",
    "    list_of_indices = np.where(labels == c)[0]\n",
    "    components_mean[c] = np.mean(components[:, list_of_indices], axis=1)\n",
    "    \n",
    "print(\"Components mean:\")\n",
    "pd.DataFrame(components_mean.T)\n"
   ]
  },
  {
   "cell_type": "code",
   "execution_count": 4,
   "metadata": {},
   "outputs": [],
   "source": [
    "from numpy import linalg as LA\n",
    "import copy\n",
    "\n",
    "def em(N,imput_mu,num_of_logs):\n",
    "    meyou = copy.deepcopy(components_mean.T[:, 0].reshape(-1, 1))\n",
    "    distance_log = []\n",
    "    cut = int(N / num_of_logs)\n",
    "    for t in range(N):\n",
    "        if t % cut == 0:\n",
    "            d=LA.norm(mu1 - meyou)\n",
    "            distance_log.append(d)\n",
    "        x = generator.draw_a_sample()\n",
    "        A = np.exp((-(LA.norm(x - meyou)) ** 2) / sigma ** 2)\n",
    "        B = np.exp((-(LA.norm(x - meyou)) ** 2) / sigma ** 2) + np.exp((-(LA.norm(x + meyou)) ** 2) / sigma ** 2)\n",
    "        w = A / B\n",
    "        meyou = np.multiply((1 - eta), meyou) + np.multiply(eta * (2 * w - 1), x)\n",
    "    return meyou, distance_log"
   ]
  },
  {
   "cell_type": "markdown",
   "metadata": {},
   "source": [
    "#### 4.3.2 Theorem 7\n",
    "Let $ x^t , 1 \\leq t \\leq N + N_0 $ be generated using a mixture two\n",
    "balanced spherical Gaussians with variance $ \\sigma^2 $. Also, let the center-separation $C \\geq 4 $ and also\n",
    "suppose our initial estimate $\\mu^0 $ is such that $ || \\mu^0 - \\mu^* || \\leq \\dfrac{C\\sigma}{20} $. Then, the streaming update of\n",
    "EM algorihtm satisfies:\n",
    "\n",
    "\n",
    "$$ \\mathbb{E}(|| \\mu^0 - \\mu^* ||^2 ) \\leq \\dfrac{||\\mu^* ||^2 }{N^{\\Omega(1)}} + O(1) \\dfrac{ \\log N}{N} d\\sigma^2$$\n",
    "Based on Theorem 7, the error in the EM algorithm will converge to zero as we get more data. <br>\n",
    "\n",
    "In the following, we will verify theorem 7 experimentally. "
   ]
  },
  {
   "cell_type": "code",
   "execution_count": 5,
   "metadata": {},
   "outputs": [],
   "source": [
    "def theorem_7(N, sigma, d):\n",
    "    return (LA.norm(mu1) / N) + (((np.log(N)) / N) * d * sigma**2)"
   ]
  },
  {
   "cell_type": "code",
   "execution_count": 6,
   "metadata": {},
   "outputs": [],
   "source": [
    "num_of_logs = 1000\n",
    "mu01 = components_mean.T\n",
    "\n",
    "run_count = 10\n",
    "error_matrix = np.zeros((run_count, num_of_logs))\n",
    "Ns = []\n",
    "n = int(2*int(d*d*d*k*k*k*np.log(d*k)))\n",
    "for run in range(run_count):\n",
    "    em_mu, distance_log = em(n, mu01, num_of_logs)\n",
    "    error_matrix[run] = distance_log[:num_of_logs]"
   ]
  },
  {
   "cell_type": "code",
   "execution_count": 7,
   "metadata": {},
   "outputs": [
    {
     "data": {
      "image/png": "[encoded data removed]",
      "text/plain": [
       "<Figure size 432x288 with 1 Axes>"
      ]
     },
     "metadata": {
      "needs_background": "light"
     },
     "output_type": "display_data"
    }
   ],
   "source": [
    "mean_error = np.mean(error_matrix, axis=0)\n",
    "diagram_cut = 50\n",
    "\n",
    "theorem_7_log = []\n",
    "Ns = []\n",
    "for i in range(num_of_logs):\n",
    "    cut = int(n / num_of_logs)\n",
    "    theorem_7_log.append(theorem_7(cut * (i+1), sigma, d))\n",
    "    Ns.append(cut * (i+1))\n",
    "    \n",
    "p1, = plt.plot(Ns[:diagram_cut], mean_error[:diagram_cut], label='Expected Error')\n",
    "plt.legend(loc='best')\n",
    "plt.title('Expected Error')\n",
    "plt.show()"
   ]
  },
  {
   "cell_type": "code",
   "execution_count": 8,
   "metadata": {},
   "outputs": [
    {
     "data": {
      "image/png": "[encoded data removed]",
      "text/plain": [
       "<Figure size 432x288 with 1 Axes>"
      ]
     },
     "metadata": {
      "needs_background": "light"
     },
     "output_type": "display_data"
    }
   ],
   "source": [
    "p1, = plt.plot(Ns[:diagram_cut], mean_error[:diagram_cut], label='Expected Error')\n",
    "p1, = plt.plot(Ns[:diagram_cut], theorem_7_log[:diagram_cut], label='Theorem 7 Bound')\n",
    "plt.legend(loc='best')\n",
    "plt.title('Theorem 7 vs EM Expected Error')\n",
    "plt.show()"
   ]
  },
  {
   "cell_type": "code",
   "execution_count": 9,
   "metadata": {},
   "outputs": [
    {
     "data": {
      "text/plain": [
       "[]"
      ]
     },
     "execution_count": 9,
     "metadata": {},
     "output_type": "execute_result"
    },
    {
     "data": {
      "image/png": "[encoded data removed]",
      "text/plain": [
       "<Figure size 432x288 with 1 Axes>"
      ]
     },
     "metadata": {
      "needs_background": "light"
     },
     "output_type": "display_data"
    }
   ],
   "source": [
    "boxplot_dict = {}\n",
    "diagram_cut = 100\n",
    "for i in range(diagram_cut):\n",
    "    boxplot_dict[cut * (i+1)] = [np.mean(error_matrix[:, i]), np.min(error_matrix[:, i]), np.max(error_matrix[:, i]), ]\n",
    "\n",
    "fig, ax = plt.subplots()\n",
    "ax.boxplot(boxplot_dict.values())\n",
    "ax.set_xticklabels(boxplot_dict.keys())\n",
    "plt.plot()"
   ]
  },
  {
   "cell_type": "markdown",
   "metadata": {},
   "source": [
    "Based on the tren of the graph, the error seems to converge to zero in the limit. "
   ]
  }
 ],
 "metadata": {
  "kernelspec": {
   "display_name": "Python 3",
   "language": "python",
   "name": "python3"
  },
  "language_info": {
   "codemirror_mode": {
    "name": "ipython",
    "version": 3
   },
   "file_extension": ".py",
   "mimetype": "text/x-python",
   "name": "python",
   "nbconvert_exporter": "python",
   "pygments_lexer": "ipython3",
   "version": "3.7.4"
  }
 },
 "nbformat": 4,
 "nbformat_minor": 2
}
