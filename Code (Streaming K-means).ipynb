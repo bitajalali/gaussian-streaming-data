{
 "cells": [
  {
   "cell_type": "markdown",
   "metadata": {
    "colab_type": "text",
    "id": "l-x0ImfB4a1k"
   },
   "source": [
    "# Big Data Project\n",
    "# Learning Mixture of Gaussians with Streaming Data"
   ]
  },
  {
   "cell_type": "markdown",
   "metadata": {
    "colab_type": "text",
    "id": "bZyrYokSFU7W"
   },
   "source": [
    "## 1. Abstract\n",
    "In this project, we explore a theoretical paper published in Neurips2017 Conference titled **Learning Mixture of Gaussians with Streaming Data** by doing some experimental tests on the performance of the algorithm.  You can find the original paper [here](https://papers.nips.cc/paper/7238-learning-mixture-of-gaussians-with-streaming-data).<br>\n",
    "The authors of the paper proposed an algorithm with a theoretical guarantee for the problem of **clustering the streaming data points where data points come from a Mixture of Gaussian Distribution**. In particular, they showed that with high probability, the algorithm eventually finds (/learns) the mixture of Gaussians accurately. Moreover, they showed that the learning rate is near-optimal. Meaning that in each step, the error decreases optimally. Note that, as the problem of learning the mixture of Gaussian is NP-Hard, they used a simplification assumption for the data to make the problem tractable. The simplification assumption they used is that data comes from a mixture of **well-separated** Gaussians. (i.e. the centers of any two clusters are far enough so that the algorithm can decide computationally easily whether the point belongs to the first cluster or the second one.)<br> Although the assumption allows them to have a good performance for this problem, one question might arise:\n",
    "Is the analysis of the paper tight? \n",
    "<br> \n",
    "One way to find an answer to this question is to test the algorithm's performance by running some experimental tests. Of course, the experimental tests just provide evidence and they are not proof. <br>\n",
    "\n"
   ]
  },
  {
   "cell_type": "markdown",
   "metadata": {
    "colab_type": "text",
    "id": "QcwyGZArFU7X"
   },
   "source": [
    "## 2. Project Outline\n",
    "In the following, we will first give a bit explanation about the general setup and data distribution in the first section. Then we explain the theorems about the performance of the algorithm. Finally, we test the algorithm performance by generating data from the mixture of Gaussian Distribution and run our implementation of the paper's algorithm <br>"
   ]
  },
  {
   "cell_type": "markdown",
   "metadata": {
    "colab_type": "text",
    "id": "oPTi-jE0FU7Y"
   },
   "source": [
    "## 3. Setup \n",
    "### 3.1. Data Distribution\n",
    "\n",
    "Data is drawn from a mixture of a mixture of k spherical Gaussians distributions, <br>\n",
    "i.e. for all $i = 1,2,...,k$:\n",
    "$$ x^t {\\sim} \\sum_{i} w_i \\mathcal{N}(\\mu_i^*, \\sigma^2 I) , \\sigma_i^* \\in \\mathcal{R}^d  $$ \n",
    "\n",
    "where $\\mu_i^*$ is the mean of the i-th mixture component (i-th cluster), mixture weights $w_i \\geq 0$, and\n",
    "$\\sum_i wi = 1$. <br>\n",
    "For simplicity, we assumed all $\\sigma_i=\\sigma$ are the same. But the algorithm doesn't require this assumption. \n",
    "\n",
    "### 3.2. Seperation Assumption\n",
    "As we stated earlier, the paper used a simplification assumption for the data. In particular, any two centers $i , j$ should be far away from each other at least $C \\sigma $ i.e.:\n",
    "$$ ||\\mu_i^* - \\mu_j^*|| \\geq C \\sigma $$\n",
    "\n",
    "We will explain more about the constant C in the next sections.\n",
    "\n"
   ]
  },
  {
   "cell_type": "markdown",
   "metadata": {
    "colab_type": "text",
    "id": "z4e0ocjz4a52"
   },
   "source": [
    "### 3.3 Space Overview\n",
    "100 points drawn from the distribution are depicted here. (note that we have shown a 2-d subspace from the original d-dimensional space of data points. <br>\n",
    "You can see there are k clusters."
   ]
  },
  {
   "cell_type": "code",
   "execution_count": 3,
   "metadata": {
    "colab": {
     "base_uri": "https://localhost:8080/",
     "height": 281
    },
    "colab_type": "code",
    "executionInfo": {
     "elapsed": 1837,
     "status": "ok",
     "timestamp": 1596640074255,
     "user": {
      "displayName": "bita jalali",
      "photoUrl": "",
      "userId": "13471504715077699482"
     },
     "user_tz": -270
    },
    "id": "TQ12eCsM4a54",
    "outputId": "ba1b43bb-d2fb-417d-ec18-15614fd45928"
   },
   "outputs": [
    {
     "data": {
      "image/png": "[encoded data removed]",
      "text/plain": [
       "<Figure size 432x288 with 1 Axes>"
      ]
     },
     "metadata": {
      "needs_background": "light"
     },
     "output_type": "display_data"
    }
   ],
   "source": [
    "temp = generator.generate_samples(100)\n",
    "plt.plot(temp[0, :], temp[1,:], 'x')\n",
    "plt.title(\"Space Overview\")\n",
    "plt.show()"
   ]
  },
  {
   "cell_type": "markdown",
   "metadata": {
    "colab_type": "text",
    "id": "aeVvSAm4FU7Z"
   },
   "source": [
    "## 4. Algorithm Overview\n",
    "The algorithm consists of two parts: <br>\n",
    "1 . Algorithm1 (initialization algorithm) <br>\n",
    "2 . Algorithm2: (a) Streaming using Lloyd's Heuristic, (b) Expectation Maximization (i.e.Soft version of Lloyd's Heuristic) <br>\n",
    "\n",
    "Note that Expectation Maximization part is available in another file named \"EM\". <br>\n",
    "### 4.1 Initialization Algorithm\n",
    "In the initialization part, we try to find k initial centers for k clusters. To do so, we first use SVD-style operations to project d dimensional data points into a k-dimensional space. These operations project will de-noise the data, making it easy for the algorithm to identify all k distinct clusters from few data points. After we find k clusters centers in the projected space, we project them to the original d-dimensional space. This way, we have a good initialization for the k centers.<br>"
   ]
  },
  {
   "cell_type": "code",
   "execution_count": 1,
   "metadata": {
    "colab": {
     "base_uri": "https://localhost:8080/",
     "height": 373
    },
    "colab_type": "code",
    "executionInfo": {
     "elapsed": 2000,
     "status": "ok",
     "timestamp": 1596640063264,
     "user": {
      "displayName": "bita jalali",
      "photoUrl": "",
      "userId": "13471504715077699482"
     },
     "user_tz": -270
    },
    "id": "mWMOIdSX4a1n",
    "outputId": "c70068f5-b15e-4e04-e860-7146b7f6cb4f"
   },
   "outputs": [
    {
     "name": "stdout",
     "output_type": "stream",
     "text": [
      "True Centers for Clusters\n"
     ]
    },
    {
     "data": {
      "text/html": [
       "<div>\n",
       "<style scoped>\n",
       "    .dataframe tbody tr th:only-of-type {\n",
       "        vertical-align: middle;\n",
       "    }\n",
       "\n",
       "    .dataframe tbody tr th {\n",
       "        vertical-align: top;\n",
       "    }\n",
       "\n",
       "    .dataframe thead th {\n",
       "        text-align: right;\n",
       "    }\n",
       "</style>\n",
       "<table border=\"1\" class=\"dataframe\">\n",
       "  <thead>\n",
       "    <tr style=\"text-align: right;\">\n",
       "      <th></th>\n",
       "      <th>0</th>\n",
       "      <th>1</th>\n",
       "      <th>2</th>\n",
       "      <th>3</th>\n",
       "      <th>4</th>\n",
       "    </tr>\n",
       "  </thead>\n",
       "  <tbody>\n",
       "    <tr>\n",
       "      <th>0</th>\n",
       "      <td>1006.573560</td>\n",
       "      <td>7457.903141</td>\n",
       "      <td>8607.361205</td>\n",
       "      <td>5805.062752</td>\n",
       "      <td>159.473022</td>\n",
       "    </tr>\n",
       "    <tr>\n",
       "      <th>1</th>\n",
       "      <td>7981.089236</td>\n",
       "      <td>4519.639663</td>\n",
       "      <td>8843.143067</td>\n",
       "      <td>7082.612751</td>\n",
       "      <td>1638.453342</td>\n",
       "    </tr>\n",
       "    <tr>\n",
       "      <th>2</th>\n",
       "      <td>1786.589980</td>\n",
       "      <td>7512.222316</td>\n",
       "      <td>4686.177980</td>\n",
       "      <td>1062.615207</td>\n",
       "      <td>6604.511910</td>\n",
       "    </tr>\n",
       "    <tr>\n",
       "      <th>3</th>\n",
       "      <td>3298.659779</td>\n",
       "      <td>8089.362560</td>\n",
       "      <td>6149.617684</td>\n",
       "      <td>4718.901034</td>\n",
       "      <td>7559.245778</td>\n",
       "    </tr>\n",
       "    <tr>\n",
       "      <th>4</th>\n",
       "      <td>8864.726130</td>\n",
       "      <td>5712.461236</td>\n",
       "      <td>1803.188495</td>\n",
       "      <td>7849.071028</td>\n",
       "      <td>7154.246706</td>\n",
       "    </tr>\n",
       "    <tr>\n",
       "      <th>5</th>\n",
       "      <td>7637.138501</td>\n",
       "      <td>6373.934348</td>\n",
       "      <td>3263.415539</td>\n",
       "      <td>1354.105588</td>\n",
       "      <td>2977.484326</td>\n",
       "    </tr>\n",
       "    <tr>\n",
       "      <th>6</th>\n",
       "      <td>6208.651794</td>\n",
       "      <td>2407.470493</td>\n",
       "      <td>1071.618747</td>\n",
       "      <td>5643.999592</td>\n",
       "      <td>3806.159423</td>\n",
       "    </tr>\n",
       "    <tr>\n",
       "      <th>7</th>\n",
       "      <td>2173.689721</td>\n",
       "      <td>828.673876</td>\n",
       "      <td>1893.492336</td>\n",
       "      <td>2113.814978</td>\n",
       "      <td>2271.450202</td>\n",
       "    </tr>\n",
       "    <tr>\n",
       "      <th>8</th>\n",
       "      <td>5882.354979</td>\n",
       "      <td>1509.902750</td>\n",
       "      <td>6242.963681</td>\n",
       "      <td>8404.339237</td>\n",
       "      <td>9478.986709</td>\n",
       "    </tr>\n",
       "    <tr>\n",
       "      <th>9</th>\n",
       "      <td>9055.694116</td>\n",
       "      <td>9003.731212</td>\n",
       "      <td>6530.270935</td>\n",
       "      <td>1714.366744</td>\n",
       "      <td>2276.888733</td>\n",
       "    </tr>\n",
       "  </tbody>\n",
       "</table>\n",
       "</div>"
      ],
      "text/plain": [
       "             0            1            2            3            4\n",
       "0  1006.573560  7457.903141  8607.361205  5805.062752   159.473022\n",
       "1  7981.089236  4519.639663  8843.143067  7082.612751  1638.453342\n",
       "2  1786.589980  7512.222316  4686.177980  1062.615207  6604.511910\n",
       "3  3298.659779  8089.362560  6149.617684  4718.901034  7559.245778\n",
       "4  8864.726130  5712.461236  1803.188495  7849.071028  7154.246706\n",
       "5  7637.138501  6373.934348  3263.415539  1354.105588  2977.484326\n",
       "6  6208.651794  2407.470493  1071.618747  5643.999592  3806.159423\n",
       "7  2173.689721   828.673876  1893.492336  2113.814978  2271.450202\n",
       "8  5882.354979  1509.902750  6242.963681  8404.339237  9478.986709\n",
       "9  9055.694116  9003.731212  6530.270935  1714.366744  2276.888733"
      ]
     },
     "execution_count": 1,
     "metadata": {},
     "output_type": "execute_result"
    }
   ],
   "source": [
    "import numpy as np\n",
    "import matplotlib.pyplot as plt\n",
    "from scipy.stats import ortho_group\n",
    "from scipy import linalg\n",
    "import random\n",
    "from sklearn import neighbors\n",
    "import sklearn.metrics.pairwise\n",
    "from scipy.sparse import csgraph\n",
    "import random\n",
    "import pandas as pd\n",
    "\n",
    "\n",
    "d = 10\n",
    "k = 5\n",
    "scaler = 10000\n",
    "sigma = 100\n",
    "num_of_samples = int(d*d*d*k*k*k*np.log(d*k))  #N0\n",
    "w = np.ones(k) / k\n",
    "\n",
    "## For initializatoin, we need C to be at least OMEGA((klogk)^1/4). So:\n",
    "C = 10*((k*np.log(k))**(1/4))\n",
    "C2 = (np.log(k)**(1/2))\n",
    "##TODO: Change max to min but make sure that you ignore the diagonal values as they are zeros and they should be ignored. \n",
    "def generate_distant_means(dimension, C, std):\n",
    "    mu = np.random.rand(d, k) * scaler\n",
    "    dist = sklearn.metrics.pairwise.euclidean_distances(mu.T)\n",
    "    dist = dist + np.identity(k, dtype = float) * 2 * C * sigma\n",
    "    min_dist = np.min(dist)\n",
    "    while (min_dist < C * sigma):\n",
    "        print (\"close_initial_points_occured, start again\")\n",
    "        mu = np.random.rand(d, k) * scaler\n",
    "        dist = sklearn.metrics.pairwise.euclidean_distances(mu.T)\n",
    "        dist = dist + np.identity(k, dtype = float)   * 2 * C * sigma\n",
    "        min_dist = np.min(dist)\n",
    "    return mu\n",
    "\n",
    "mu = generate_distant_means(d, C, sigma)\n",
    "print (\"True Centers for Clusters\")\n",
    "\n",
    "tmp = pd.DataFrame(mu)\n",
    "tmp"
   ]
  },
  {
   "cell_type": "markdown",
   "metadata": {
    "colab_type": "text",
    "id": "kibyYphdFU7j"
   },
   "source": [
    "Sample Generator Class"
   ]
  },
  {
   "cell_type": "code",
   "execution_count": 2,
   "metadata": {
    "colab": {},
    "colab_type": "code",
    "executionInfo": {
     "elapsed": 1284,
     "status": "ok",
     "timestamp": 1596640069271,
     "user": {
      "displayName": "bita jalali",
      "photoUrl": "",
      "userId": "13471504715077699482"
     },
     "user_tz": -270
    },
    "id": "jeI1Q25X4a3A"
   },
   "outputs": [],
   "source": [
    "class SampleGenerator:\n",
    "    def __init__(self, weights, mu, sigma, d):\n",
    "        self.weights = weights\n",
    "        self.mu = mu\n",
    "        self.sigma=sigma\n",
    "        self.d = d\n",
    "    \n",
    "    def draw_a_sample(self):\n",
    "        rand = random.uniform(0,1)\n",
    "        for i in range(len(self.weights)):\n",
    "            rand -= self.weights[i]\n",
    "            if (rand <=0):\n",
    "                return np.random.multivariate_normal(self.mu[:,i], self.sigma * np.identity(self.d), 1).T\n",
    "    \n",
    "    def generate_samples(self, sample_size):\n",
    "        samples = []\n",
    "        for i in range(sample_size):\n",
    "            if len(samples) == 0:\n",
    "                samples = self.draw_a_sample()\n",
    "            else:\n",
    "                samples = np.append(samples, self.draw_a_sample(), axis=1)\n",
    "        return samples\n",
    "\n",
    "generator = SampleGenerator(w, mu, sigma, d)"
   ]
  },
  {
   "cell_type": "markdown",
   "metadata": {
    "colab_type": "text",
    "id": "gdEhw8RE4a35"
   },
   "source": [
    "#### 4.1.1 Finding k-dimensional subspace using Streaming PCA method\n",
    "In this part, we are going to find a k dimensional space to reduce the noise of each cluster. This way, all points from a single clusters will become closer to each other, allowing us to use Nearest Neighbor Graph to identify each cluster easily. "
   ]
  },
  {
   "cell_type": "code",
   "execution_count": 4,
   "metadata": {
    "colab": {},
    "colab_type": "code",
    "executionInfo": {
     "elapsed": 76015,
     "status": "ok",
     "timestamp": 1596640154807,
     "user": {
      "displayName": "bita jalali",
      "photoUrl": "",
      "userId": "13471504715077699482"
     },
     "user_tz": -270
    },
    "id": "vJdjF2hg4a4E"
   },
   "outputs": [],
   "source": [
    "N0 = num_of_samples\n",
    "\n",
    "S = np.zeros((d, d))\n",
    "k_2 = int(10 * k * np.log(k))\n",
    "B = int(d * np.log(d))\n",
    "U = ortho_group.rvs(dim=d)[:, :k]  # Choosing k orthonormal vectors in Rd space\n",
    "\n",
    "for t in range(N0 - k_2):\n",
    "    if t % B == B - 1:\n",
    "        Q, R = linalg.qr(np.matmul(S, U))\n",
    "        U = Q\n",
    "        S = np.zeros((d, d))\n",
    "    reshaped_sample = generator.draw_a_sample().reshape(-1, 1)\n",
    "    S = S + np.matmul(reshaped_sample, reshaped_sample.T)"
   ]
  },
  {
   "cell_type": "markdown",
   "metadata": {
    "colab_type": "text",
    "id": "0NaLbcKM4a7A"
   },
   "source": [
    "#### 4.1.2 Using Nearest Neighbor to find all k clusters\n",
    "First, we project points to the k-dimensional space to reduce the noise, then using each point as a node, we build a nearest neighbor graph. Each connected component in the graph would represent a cluster. "
   ]
  },
  {
   "cell_type": "code",
   "execution_count": 5,
   "metadata": {
    "colab": {
     "base_uri": "https://localhost:8080/",
     "height": 281
    },
    "colab_type": "code",
    "executionInfo": {
     "elapsed": 68880,
     "status": "ok",
     "timestamp": 1596640154808,
     "user": {
      "displayName": "bita jalali",
      "photoUrl": "",
      "userId": "13471504715077699482"
     },
     "user_tz": -270
    },
    "id": "Tdme6bJZ4a7O",
    "outputId": "e3469813-abb1-4bb3-ecec-c02eaa328725"
   },
   "outputs": [
    {
     "data": {
      "image/png": "[encoded data removed]",
      "text/plain": [
       "<Figure size 432x288 with 1 Axes>"
      ]
     },
     "metadata": {
      "needs_background": "light"
     },
     "output_type": "display_data"
    }
   ],
   "source": [
    "X0 = generator.generate_samples(k_2)\n",
    "save_U = U\n",
    "U = U[:, 0:k]\n",
    "components = np.matmul(U.T, X0)\n",
    "adj = neighbors.kneighbors_graph(np.transpose(components), 3)\n",
    "n_components, labels = csgraph.connected_components(adj)\n",
    "\n",
    "fig, ax = plt.subplots()\n",
    "ax.scatter(components[0], components[1], c=labels)\n",
    "plt.title(\"THIS is k-dimentional subspace\")\n",
    "plt.show()"
   ]
  },
  {
   "cell_type": "code",
   "execution_count": 6,
   "metadata": {
    "colab": {
     "base_uri": "https://localhost:8080/",
     "height": 281
    },
    "colab_type": "code",
    "executionInfo": {
     "elapsed": 65049,
     "status": "ok",
     "timestamp": 1596640154810,
     "user": {
      "displayName": "bita jalali",
      "photoUrl": "",
      "userId": "13471504715077699482"
     },
     "user_tz": -270
    },
    "id": "ALBmRawZ4a-Z",
    "outputId": "0ed7b3d1-60e8-4f7a-d342-db45f19b4e38"
   },
   "outputs": [
    {
     "data": {
      "image/png": "[encoded data removed]",
      "text/plain": [
       "<Figure size 432x288 with 1 Axes>"
      ]
     },
     "metadata": {
      "needs_background": "light"
     },
     "output_type": "display_data"
    }
   ],
   "source": [
    "components = np.matmul(U, components)\n",
    "fig, ax = plt.subplots()\n",
    "ax.scatter(components[0], components[1], c=labels)\n",
    "plt.title(\"This is Original Space\")\n",
    "plt.show()"
   ]
  },
  {
   "cell_type": "code",
   "execution_count": 7,
   "metadata": {
    "colab": {
     "base_uri": "https://localhost:8080/",
     "height": 373
    },
    "colab_type": "code",
    "executionInfo": {
     "elapsed": 62471,
     "status": "ok",
     "timestamp": 1596640154812,
     "user": {
      "displayName": "bita jalali",
      "photoUrl": "",
      "userId": "13471504715077699482"
     },
     "user_tz": -270
    },
    "id": "p3r8c38d4a-s",
    "outputId": "9c1243c0-11f7-459d-f711-2c88740b5382"
   },
   "outputs": [
    {
     "name": "stdout",
     "output_type": "stream",
     "text": [
      "Components mean:\n"
     ]
    },
    {
     "data": {
      "text/html": [
       "<div>\n",
       "<style scoped>\n",
       "    .dataframe tbody tr th:only-of-type {\n",
       "        vertical-align: middle;\n",
       "    }\n",
       "\n",
       "    .dataframe tbody tr th {\n",
       "        vertical-align: top;\n",
       "    }\n",
       "\n",
       "    .dataframe thead th {\n",
       "        text-align: right;\n",
       "    }\n",
       "</style>\n",
       "<table border=\"1\" class=\"dataframe\">\n",
       "  <thead>\n",
       "    <tr style=\"text-align: right;\">\n",
       "      <th></th>\n",
       "      <th>0</th>\n",
       "      <th>1</th>\n",
       "      <th>2</th>\n",
       "      <th>3</th>\n",
       "      <th>4</th>\n",
       "    </tr>\n",
       "  </thead>\n",
       "  <tbody>\n",
       "    <tr>\n",
       "      <th>0</th>\n",
       "      <td>1004.659735</td>\n",
       "      <td>8602.688447</td>\n",
       "      <td>156.998482</td>\n",
       "      <td>7457.114878</td>\n",
       "      <td>5810.833626</td>\n",
       "    </tr>\n",
       "    <tr>\n",
       "      <th>1</th>\n",
       "      <td>7981.449254</td>\n",
       "      <td>8842.145440</td>\n",
       "      <td>1632.891263</td>\n",
       "      <td>4523.029546</td>\n",
       "      <td>7070.616973</td>\n",
       "    </tr>\n",
       "    <tr>\n",
       "      <th>2</th>\n",
       "      <td>1790.712167</td>\n",
       "      <td>4682.362683</td>\n",
       "      <td>6602.861160</td>\n",
       "      <td>7512.045539</td>\n",
       "      <td>1061.278888</td>\n",
       "    </tr>\n",
       "    <tr>\n",
       "      <th>3</th>\n",
       "      <td>3296.125969</td>\n",
       "      <td>6153.697604</td>\n",
       "      <td>7558.724763</td>\n",
       "      <td>8092.409179</td>\n",
       "      <td>4712.346784</td>\n",
       "    </tr>\n",
       "    <tr>\n",
       "      <th>4</th>\n",
       "      <td>8863.349343</td>\n",
       "      <td>1806.231879</td>\n",
       "      <td>7152.189040</td>\n",
       "      <td>5715.178904</td>\n",
       "      <td>7845.894733</td>\n",
       "    </tr>\n",
       "    <tr>\n",
       "      <th>5</th>\n",
       "      <td>7628.245490</td>\n",
       "      <td>3258.963132</td>\n",
       "      <td>2980.991991</td>\n",
       "      <td>6375.568134</td>\n",
       "      <td>1361.207542</td>\n",
       "    </tr>\n",
       "    <tr>\n",
       "      <th>6</th>\n",
       "      <td>6215.085481</td>\n",
       "      <td>1067.861391</td>\n",
       "      <td>3807.590765</td>\n",
       "      <td>2404.595059</td>\n",
       "      <td>5642.911509</td>\n",
       "    </tr>\n",
       "    <tr>\n",
       "      <th>7</th>\n",
       "      <td>2169.924317</td>\n",
       "      <td>1889.896869</td>\n",
       "      <td>2275.113901</td>\n",
       "      <td>832.385092</td>\n",
       "      <td>2119.977969</td>\n",
       "    </tr>\n",
       "    <tr>\n",
       "      <th>8</th>\n",
       "      <td>5885.804747</td>\n",
       "      <td>6239.186480</td>\n",
       "      <td>9477.207032</td>\n",
       "      <td>1509.366177</td>\n",
       "      <td>8414.359976</td>\n",
       "    </tr>\n",
       "    <tr>\n",
       "      <th>9</th>\n",
       "      <td>9054.406525</td>\n",
       "      <td>6531.609386</td>\n",
       "      <td>2277.226207</td>\n",
       "      <td>9008.111500</td>\n",
       "      <td>1717.347722</td>\n",
       "    </tr>\n",
       "  </tbody>\n",
       "</table>\n",
       "</div>"
      ],
      "text/plain": [
       "             0            1            2            3            4\n",
       "0  1004.659735  8602.688447   156.998482  7457.114878  5810.833626\n",
       "1  7981.449254  8842.145440  1632.891263  4523.029546  7070.616973\n",
       "2  1790.712167  4682.362683  6602.861160  7512.045539  1061.278888\n",
       "3  3296.125969  6153.697604  7558.724763  8092.409179  4712.346784\n",
       "4  8863.349343  1806.231879  7152.189040  5715.178904  7845.894733\n",
       "5  7628.245490  3258.963132  2980.991991  6375.568134  1361.207542\n",
       "6  6215.085481  1067.861391  3807.590765  2404.595059  5642.911509\n",
       "7  2169.924317  1889.896869  2275.113901   832.385092  2119.977969\n",
       "8  5885.804747  6239.186480  9477.207032  1509.366177  8414.359976\n",
       "9  9054.406525  6531.609386  2277.226207  9008.111500  1717.347722"
      ]
     },
     "execution_count": 7,
     "metadata": {},
     "output_type": "execute_result"
    }
   ],
   "source": [
    "components_mean = np.zeros((k, d))\n",
    "components_by_labels = []\n",
    "for c in range(k):\n",
    "    list_of_indices = np.where(labels == c)[0]\n",
    "    components_mean[c] = np.mean(components[:, list_of_indices], axis=1)\n",
    "    \n",
    "print(\"Components mean:\")\n",
    "pd.DataFrame(components_mean.T)"
   ]
  },
  {
   "cell_type": "code",
   "execution_count": 8,
   "metadata": {
    "colab": {
     "base_uri": "https://localhost:8080/",
     "height": 373
    },
    "colab_type": "code",
    "executionInfo": {
     "elapsed": 61329,
     "status": "ok",
     "timestamp": 1596640154813,
     "user": {
      "displayName": "bita jalali",
      "photoUrl": "",
      "userId": "13471504715077699482"
     },
     "user_tz": -270
    },
    "id": "xpowpvp64a-z",
    "outputId": "282909d8-1926-4910-cd0a-b5a8804769df"
   },
   "outputs": [
    {
     "name": "stdout",
     "output_type": "stream",
     "text": [
      "TRUE centers\n"
     ]
    },
    {
     "data": {
      "text/html": [
       "<div>\n",
       "<style scoped>\n",
       "    .dataframe tbody tr th:only-of-type {\n",
       "        vertical-align: middle;\n",
       "    }\n",
       "\n",
       "    .dataframe tbody tr th {\n",
       "        vertical-align: top;\n",
       "    }\n",
       "\n",
       "    .dataframe thead th {\n",
       "        text-align: right;\n",
       "    }\n",
       "</style>\n",
       "<table border=\"1\" class=\"dataframe\">\n",
       "  <thead>\n",
       "    <tr style=\"text-align: right;\">\n",
       "      <th></th>\n",
       "      <th>0</th>\n",
       "      <th>1</th>\n",
       "      <th>2</th>\n",
       "      <th>3</th>\n",
       "      <th>4</th>\n",
       "    </tr>\n",
       "  </thead>\n",
       "  <tbody>\n",
       "    <tr>\n",
       "      <th>0</th>\n",
       "      <td>1006.573560</td>\n",
       "      <td>7457.903141</td>\n",
       "      <td>8607.361205</td>\n",
       "      <td>5805.062752</td>\n",
       "      <td>159.473022</td>\n",
       "    </tr>\n",
       "    <tr>\n",
       "      <th>1</th>\n",
       "      <td>7981.089236</td>\n",
       "      <td>4519.639663</td>\n",
       "      <td>8843.143067</td>\n",
       "      <td>7082.612751</td>\n",
       "      <td>1638.453342</td>\n",
       "    </tr>\n",
       "    <tr>\n",
       "      <th>2</th>\n",
       "      <td>1786.589980</td>\n",
       "      <td>7512.222316</td>\n",
       "      <td>4686.177980</td>\n",
       "      <td>1062.615207</td>\n",
       "      <td>6604.511910</td>\n",
       "    </tr>\n",
       "    <tr>\n",
       "      <th>3</th>\n",
       "      <td>3298.659779</td>\n",
       "      <td>8089.362560</td>\n",
       "      <td>6149.617684</td>\n",
       "      <td>4718.901034</td>\n",
       "      <td>7559.245778</td>\n",
       "    </tr>\n",
       "    <tr>\n",
       "      <th>4</th>\n",
       "      <td>8864.726130</td>\n",
       "      <td>5712.461236</td>\n",
       "      <td>1803.188495</td>\n",
       "      <td>7849.071028</td>\n",
       "      <td>7154.246706</td>\n",
       "    </tr>\n",
       "    <tr>\n",
       "      <th>5</th>\n",
       "      <td>7637.138501</td>\n",
       "      <td>6373.934348</td>\n",
       "      <td>3263.415539</td>\n",
       "      <td>1354.105588</td>\n",
       "      <td>2977.484326</td>\n",
       "    </tr>\n",
       "    <tr>\n",
       "      <th>6</th>\n",
       "      <td>6208.651794</td>\n",
       "      <td>2407.470493</td>\n",
       "      <td>1071.618747</td>\n",
       "      <td>5643.999592</td>\n",
       "      <td>3806.159423</td>\n",
       "    </tr>\n",
       "    <tr>\n",
       "      <th>7</th>\n",
       "      <td>2173.689721</td>\n",
       "      <td>828.673876</td>\n",
       "      <td>1893.492336</td>\n",
       "      <td>2113.814978</td>\n",
       "      <td>2271.450202</td>\n",
       "    </tr>\n",
       "    <tr>\n",
       "      <th>8</th>\n",
       "      <td>5882.354979</td>\n",
       "      <td>1509.902750</td>\n",
       "      <td>6242.963681</td>\n",
       "      <td>8404.339237</td>\n",
       "      <td>9478.986709</td>\n",
       "    </tr>\n",
       "    <tr>\n",
       "      <th>9</th>\n",
       "      <td>9055.694116</td>\n",
       "      <td>9003.731212</td>\n",
       "      <td>6530.270935</td>\n",
       "      <td>1714.366744</td>\n",
       "      <td>2276.888733</td>\n",
       "    </tr>\n",
       "  </tbody>\n",
       "</table>\n",
       "</div>"
      ],
      "text/plain": [
       "             0            1            2            3            4\n",
       "0  1006.573560  7457.903141  8607.361205  5805.062752   159.473022\n",
       "1  7981.089236  4519.639663  8843.143067  7082.612751  1638.453342\n",
       "2  1786.589980  7512.222316  4686.177980  1062.615207  6604.511910\n",
       "3  3298.659779  8089.362560  6149.617684  4718.901034  7559.245778\n",
       "4  8864.726130  5712.461236  1803.188495  7849.071028  7154.246706\n",
       "5  7637.138501  6373.934348  3263.415539  1354.105588  2977.484326\n",
       "6  6208.651794  2407.470493  1071.618747  5643.999592  3806.159423\n",
       "7  2173.689721   828.673876  1893.492336  2113.814978  2271.450202\n",
       "8  5882.354979  1509.902750  6242.963681  8404.339237  9478.986709\n",
       "9  9055.694116  9003.731212  6530.270935  1714.366744  2276.888733"
      ]
     },
     "execution_count": 8,
     "metadata": {},
     "output_type": "execute_result"
    }
   ],
   "source": [
    "print (\"TRUE centers\")\n",
    "pd.DataFrame(mu)"
   ]
  },
  {
   "cell_type": "markdown",
   "metadata": {
    "colab_type": "text",
    "id": "s8kiPQmp4a-7"
   },
   "source": [
    "#### 4.1.3 Thoerem 3"
   ]
  },
  {
   "cell_type": "markdown",
   "metadata": {
    "colab_type": "text",
    "id": "oxeTTrqz4a-9"
   },
   "source": [
    "\n",
    "As we know in the **Theorem 3** of the paper, \n",
    "if each two centers have enough seperations, $\\Omega (k \\log k )^{1/4}$,<br>\n",
    "then with high probability $1 - \\dfrac{1}{poly(k)}$, the distance between TRUE center and algorithm's output can be bounded by<br>\n",
    "$$|| \\mu_i^0 - \\mu_i^*|| \\leq \\dfrac{C}{20}\\sigma$$"
   ]
  },
  {
   "cell_type": "markdown",
   "metadata": {
    "colab_type": "text",
    "id": "KUD1uVwc4a--"
   },
   "source": [
    "#### 4.1.4 Verifying Theorem 3: Comparision Between \"Alg centers output\" and \"TRUE centeres\""
   ]
  },
  {
   "cell_type": "code",
   "execution_count": 9,
   "metadata": {
    "colab": {},
    "colab_type": "code",
    "executionInfo": {
     "elapsed": 57163,
     "status": "ok",
     "timestamp": 1596640154814,
     "user": {
      "displayName": "bita jalali",
      "photoUrl": "",
      "userId": "13471504715077699482"
     },
     "user_tz": -270
    },
    "id": "Nx7TGkid4a_C"
   },
   "outputs": [],
   "source": [
    "def distance_calculator(mu, mu_t):\n",
    "    comparision_matrix = sklearn.metrics.pairwise.euclidean_distances(mu.T, mu_t.T)\n",
    "    distance_vector = np.min(comparision_matrix, axis=0)\n",
    "    distance_sum = np.sum(np.min(comparision_matrix, axis=0))\n",
    "\n",
    "    return distance_sum, distance_vector"
   ]
  },
  {
   "cell_type": "code",
   "execution_count": 10,
   "metadata": {
    "colab": {
     "base_uri": "https://localhost:8080/",
     "height": 173
    },
    "colab_type": "code",
    "executionInfo": {
     "elapsed": 56189,
     "status": "ok",
     "timestamp": 1596640154815,
     "user": {
      "displayName": "bita jalali",
      "photoUrl": "",
      "userId": "13471504715077699482"
     },
     "user_tz": -270
    },
    "id": "v3VWG8H8FU8O",
    "outputId": "be5189b4-3a5f-414f-efaf-2d6a5c39b814"
   },
   "outputs": [
    {
     "name": "stdout",
     "output_type": "stream",
     "text": [
      "Distance between each cluster center and algorithm's output for that center:\n",
      "    Distance\n",
      "0  13.315987\n",
      "1  11.234860\n",
      "2   8.680253\n",
      "3   8.543820\n",
      "4  20.759095\n",
      "Sum of distances:\n",
      "62.53401504530203\n"
     ]
    }
   ],
   "source": [
    "distance_sum, distance_vector = distance_calculator(mu, components_mean.T)\n",
    "\n",
    "DF = pd.DataFrame(distance_vector)\n",
    "DF.columns = [\"Distance\"]\n",
    "print (\"Distance between each cluster center and algorithm's output for that center:\")\n",
    "print(DF)\n",
    "\n",
    "print(\"Sum of distances:\")\n",
    "print(distance_sum)"
   ]
  },
  {
   "cell_type": "code",
   "execution_count": 11,
   "metadata": {
    "colab": {
     "base_uri": "https://localhost:8080/",
     "height": 52
    },
    "colab_type": "code",
    "executionInfo": {
     "elapsed": 55257,
     "status": "ok",
     "timestamp": 1596640154816,
     "user": {
      "displayName": "bita jalali",
      "photoUrl": "",
      "userId": "13471504715077699482"
     },
     "user_tz": -270
    },
    "id": "1cF7DfP34a_M",
    "outputId": "d0270d19-05ac-4d2e-959a-4256885f5865"
   },
   "outputs": [
    {
     "name": "stdout",
     "output_type": "stream",
     "text": [
      "Theorem 3 Bound: C/20 * sigma\n"
     ]
    },
    {
     "data": {
      "text/plain": [
       "8.421337295817725"
      ]
     },
     "execution_count": 11,
     "metadata": {},
     "output_type": "execute_result"
    }
   ],
   "source": [
    "theorem3_bound= C*sigma/20\n",
    "\n",
    "print (\"Theorem 3 Bound: C/20 * sigma\")\n",
    "theorem3_bound"
   ]
  },
  {
   "cell_type": "markdown",
   "metadata": {},
   "source": [
    "As you can see, the TRUE MEANS are very close to initial algorithm's output as desired. <br>"
   ]
  },
  {
   "cell_type": "markdown",
   "metadata": {
    "colab_type": "text",
    "id": "vgbLgHEY42AK"
   },
   "source": [
    "### 4.2 Streaming Clustering (using Lloyd Heuristic)\n",
    "\n",
    "In this part, we are going to use the Lloyd Heuristic for clustering. Uppon the arrival of each data point, we firstly assign it to its closest center and then update that center."
   ]
  },
  {
   "cell_type": "code",
   "execution_count": 12,
   "metadata": {
    "colab": {},
    "colab_type": "code",
    "executionInfo": {
     "elapsed": 52835,
     "status": "ok",
     "timestamp": 1596640154817,
     "user": {
      "displayName": "bita jalali",
      "photoUrl": "",
      "userId": "13471504715077699482"
     },
     "user_tz": -270
    },
    "id": "BRVflKdc4a_c"
   },
   "outputs": [],
   "source": [
    "from numpy import linalg as LA\n",
    "import copy\n",
    "\n",
    "mu01 = components_mean.T\n",
    "\n",
    "\n",
    "def streaming_kmeans(n, input_mu, num_of_logs):\n",
    "    mu0 = copy.deepcopy(input_mu)\n",
    "    distance_log = []\n",
    "    eta = 3 * k * (np.log2(3 * n)) / n\n",
    "    cut = int(n / num_of_logs)\n",
    "    for t in range(n):\n",
    "        if t % cut == 0:\n",
    "            d, _ = distance_calculator(mu, mu0)\n",
    "            distance_log.append(d)\n",
    "        x = generator.draw_a_sample()\n",
    "\n",
    "        dis = LA.norm((x - mu0), axis=0)\n",
    "        i = np.argmin(dis)\n",
    "        x = x.reshape(-1)\n",
    "        mu0[:, i] = np.multiply((1 - eta), mu0[:, i]) + np.multiply(eta, x)\n",
    "    return mu0, distance_log"
   ]
  },
  {
   "cell_type": "markdown",
   "metadata": {
    "colab_type": "text",
    "id": "cHWfDAkTFU8i"
   },
   "source": [
    "#### 4.2.1 Theroem 1\n",
    "Intuitively, this theorem upper bounds the error when we have seen enough data. <br>\n",
    "\n",
    "Let $xt, 1 \\leq t \\leq N + N_0$ be generated using a mixture of Gaussians  with wi = 1/k,\n",
    "for all i,  Let $N_0, N \\geq  O(1)k^3d^3 \\log d $ and $ C \\geq \\Omega {(k\\log k)^{1/4}}$. Then, the algorithm's output satifies the following error bound:\n",
    "\n",
    "$$ \\mathbb{E}(|| \\mu^0 - \\mu^* ||^2 ) \\leq \\dfrac{\\max_i  ||\\mu_i^* ||^2 }{N^{\\Omega(1)}} + O(k^3)(\\sigma^2\\dfrac{d\\log N}{N} + \\exp (-C^2/8)(c^2+k)\\sigma^2) $$\n",
    "\n",
    "In the following, we will verify theorem 1 experimentally."
   ]
  },
  {
   "cell_type": "code",
   "execution_count": 13,
   "metadata": {
    "colab": {},
    "colab_type": "code",
    "executionInfo": {
     "elapsed": 48667,
     "status": "ok",
     "timestamp": 1596640154818,
     "user": {
      "displayName": "bita jalali",
      "photoUrl": "",
      "userId": "13471504715077699482"
     },
     "user_tz": -270
    },
    "id": "AH5-md0PFU8j"
   },
   "outputs": [],
   "source": [
    "def theorem_1(mu, N, sigma, K, C, d):\n",
    "    return (np.max(LA.norm(mu,axis=0)) / N) + (K**3 * (sigma**2 * d * np.log(N) / N) + np.exp(-C**2 / 8) * (C**2 + K)* sigma**2)"
   ]
  },
  {
   "cell_type": "code",
   "execution_count": 14,
   "metadata": {
    "colab": {},
    "colab_type": "code",
    "id": "TaXLpvrLFU8p"
   },
   "outputs": [],
   "source": [
    "num_of_logs = 1000\n",
    "\n",
    "run_count = 10\n",
    "error_matrix = np.zeros((run_count, num_of_logs))\n",
    "Ns = []\n",
    "n = 2*int(d*d*d*k*k*k*np.log(d*k))\n",
    "for run in range(run_count):\n",
    "    mu_t, distance_log = streaming_kmeans(n, mu01, num_of_logs)\n",
    "    error_matrix[run] = distance_log[:num_of_logs]\n",
    "df=pd.DataFrame(error_matrix)"
   ]
  },
  {
   "cell_type": "code",
   "execution_count": 15,
   "metadata": {
    "colab": {
     "base_uri": "https://localhost:8080/",
     "height": 281
    },
    "colab_type": "code",
    "executionInfo": {
     "elapsed": 49149,
     "status": "ok",
     "timestamp": 1596640162093,
     "user": {
      "displayName": "bita jalali",
      "photoUrl": "",
      "userId": "13471504715077699482"
     },
     "user_tz": -270
    },
    "id": "96DuSgVZFU8s",
    "outputId": "65f951d0-d029-4ee7-f44e-e5403fc1a379"
   },
   "outputs": [
    {
     "data": {
      "image/png": "[encoded data removed]",
      "text/plain": [
       "<Figure size 432x288 with 1 Axes>"
      ]
     },
     "metadata": {
      "needs_background": "light"
     },
     "output_type": "display_data"
    }
   ],
   "source": [
    "mean_error = np.mean(error_matrix, axis=0)\n",
    "diagram_cut = 100\n",
    "\n",
    "theorem_1_log = []\n",
    "Ns = []\n",
    "for i in range(num_of_logs):\n",
    "    cut = int(n / num_of_logs)\n",
    "    theorem_1_log.append(theorem_1(mu, cut * (i+1), sigma, k, C, d))\n",
    "    Ns.append(cut * (i+1))\n",
    "    \n",
    "p1, =plt.plot(Ns[:diagram_cut], mean_error[:diagram_cut], label='Expected Error')\n",
    "plt.legend(loc='best')\n",
    "plt.title('Expected Error')\n",
    "plt.show()"
   ]
  },
  {
   "cell_type": "code",
   "execution_count": 16,
   "metadata": {
    "colab": {
     "base_uri": "https://localhost:8080/",
     "height": 281
    },
    "colab_type": "code",
    "executionInfo": {
     "elapsed": 48306,
     "status": "ok",
     "timestamp": 1596640162094,
     "user": {
      "displayName": "bita jalali",
      "photoUrl": "",
      "userId": "13471504715077699482"
     },
     "user_tz": -270
    },
    "id": "E-lLXfplFU80",
    "outputId": "0781f678-e022-476a-f881-07d3facf882a"
   },
   "outputs": [
    {
     "data": {
      "image/png": "[encoded data removed]",
      "text/plain": [
       "<Figure size 432x288 with 1 Axes>"
      ]
     },
     "metadata": {
      "needs_background": "light"
     },
     "output_type": "display_data"
    }
   ],
   "source": [
    "p1, =plt.plot(Ns[:diagram_cut], mean_error[:diagram_cut], label='Expected Error')\n",
    "p2, =plt.plot(Ns[:diagram_cut], theorem_1_log[:diagram_cut], label='Theorem1 Bound')\n",
    "plt.legend(loc='best')\n",
    "plt.title('Theorem 1 bound vs Expected Error')\n",
    "plt.show()"
   ]
  },
  {
   "cell_type": "code",
   "execution_count": 17,
   "metadata": {
    "colab": {
     "base_uri": "https://localhost:8080/",
     "height": 282
    },
    "colab_type": "code",
    "executionInfo": {
     "elapsed": 49573,
     "status": "ok",
     "timestamp": 1596640164181,
     "user": {
      "displayName": "bita jalali",
      "photoUrl": "",
      "userId": "13471504715077699482"
     },
     "user_tz": -270
    },
    "id": "xf5ecgn_FU83",
    "outputId": "0761c100-a54c-47b6-a56c-db125ccf5447"
   },
   "outputs": [
    {
     "data": {
      "text/plain": [
       "[]"
      ]
     },
     "execution_count": 17,
     "metadata": {},
     "output_type": "execute_result"
    },
    {
     "data": {
      "image/png": "[encoded data removed]",
      "text/plain": [
       "<Figure size 432x288 with 1 Axes>"
      ]
     },
     "metadata": {
      "needs_background": "light"
     },
     "output_type": "display_data"
    }
   ],
   "source": [
    "boxplot_dict = {}\n",
    "\n",
    "for i in range(diagram_cut):\n",
    "    boxplot_dict[cut * (i+1)] = [np.mean(error_matrix[:, i]), np.min(error_matrix[:, i]), np.max(error_matrix[:, i]), ]\n",
    "\n",
    "fig, ax = plt.subplots()\n",
    "ax.boxplot(boxplot_dict.values())\n",
    "ax.set_xticklabels(boxplot_dict.keys())\n",
    "plt.plot()"
   ]
  },
  {
   "cell_type": "markdown",
   "metadata": {
    "colab_type": "text",
    "id": "dtqIEm8JFU87"
   },
   "source": [
    "#### 4.2.2 Theorem 2\n",
    "The streaming part of the algorithm works even when the data seperation C is much less. (when $ C \\geq \\Omega (\\log k)^{1/2} $) <br>\n",
    "In this part, we will verify it experimentally in the following cell. "
   ]
  },
  {
   "cell_type": "code",
   "execution_count": 18,
   "metadata": {
    "colab": {
     "base_uri": "https://localhost:8080/",
     "height": 276
    },
    "colab_type": "code",
    "executionInfo": {
     "elapsed": 32306,
     "status": "ok",
     "timestamp": 1596640164184,
     "user": {
      "displayName": "bita jalali",
      "photoUrl": "",
      "userId": "13471504715077699482"
     },
     "user_tz": -270
    },
    "id": "NCi0y0pVFU88",
    "outputId": "ebca3adb-f92b-4d4a-a659-8967cb1e7423"
   },
   "outputs": [
    {
     "data": {
      "image/png": "[encoded data removed]",
      "text/plain": [
       "<Figure size 432x288 with 1 Axes>"
      ]
     },
     "metadata": {
      "needs_background": "light"
     },
     "output_type": "display_data"
    }
   ],
   "source": [
    "theorem_2_log = []\n",
    "for i in range(num_of_logs):\n",
    "    cut = int(n / num_of_logs)\n",
    "    theorem_2_log.append(theorem_1(mu, cut * (i+1), sigma, k, C2, d))\n",
    "    \n",
    "p1, =plt.plot(Ns[:diagram_cut], mean_error[:diagram_cut], label='Expected Error')\n",
    "p2, =plt.plot(Ns[:diagram_cut], theorem_2_log[:diagram_cut], label='Theorem2 Bound')\n",
    "plt.legend(loc='best')\n",
    "plt.show()"
   ]
  }
 ],
 "metadata": {
  "colab": {
   "collapsed_sections": [],
   "name": "Streaming (2) (2).ipynb",
   "provenance": []
  },
  "kernelspec": {
   "display_name": "Python 3",
   "language": "python",
   "name": "python3"
  },
  "language_info": {
   "codemirror_mode": {
    "name": "ipython",
    "version": 3
   },
   "file_extension": ".py",
   "mimetype": "text/x-python",
   "name": "python",
   "nbconvert_exporter": "python",
   "pygments_lexer": "ipython3",
   "version": "3.7.4"
  }
 },
 "nbformat": 4,
 "nbformat_minor": 1
}
